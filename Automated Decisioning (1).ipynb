{
 "cells": [
  {
   "cell_type": "markdown",
   "metadata": {},
   "source": [
    "# Automated Secondary Decisioning Checks "
   ]
  },
  {
   "cell_type": "markdown",
   "metadata": {},
   "source": [
    "The objective of this notebook will be automate secondary eligibility and affordability checks independent of primary systems. \n",
    "\n",
    "The first section of the notebook automates parsing of third party data from Onfido (Identity Checks) and Truelayer (accesses applicants bank data via Open Banking Legislation and API). \n",
    "\n",
    "Once the data has been parsed and formatted, eligibility and affordability checks are run on the data, determining a succesful or unsuccesful application.   \n",
    "\n",
    "The notebook concludes with a simple visualisation of applicant financial transactional data over time. \n",
    "\n",
    "NOTE: The data in this notebook is DUMMY data and does not correspond to a real life applicant."
   ]
  },
  {
   "cell_type": "markdown",
   "metadata": {},
   "source": [
    "### Required Inputs from Notebook user\n",
    "#### The three variables below will have to be manually inputted by the notebook user to conduct secondary checks - NOTE: the format must be the same!"
   ]
  },
  {
   "cell_type": "code",
   "execution_count": 1,
   "metadata": {},
   "outputs": [],
   "source": [
    "application_ID = 'APP2390249249'\n",
    "end_of_pull = '2020:10:05'\n",
    "loan = 5000"
   ]
  },
  {
   "cell_type": "code",
   "execution_count": 2,
   "metadata": {},
   "outputs": [],
   "source": [
    "import pandas as pd\n",
    "pd.set_option('mode.chained_assignment', None)  \n",
    "pd.options.display.float_format = '{:.2f}'.format \n",
    "\n",
    "#this keeps all numbers to 2 decimal places (only when displayed)"
   ]
  },
  {
   "cell_type": "markdown",
   "metadata": {},
   "source": [
    "# Onfido"
   ]
  },
  {
   "cell_type": "code",
   "execution_count": 3,
   "metadata": {},
   "outputs": [],
   "source": [
    "with open('Desktop/Check_creation_Onfido') as f:  \n",
    "    onfido = list(f)\n",
    "    \n",
    "#import raw onfido response"
   ]
  },
  {
   "cell_type": "code",
   "execution_count": 4,
   "metadata": {},
   "outputs": [],
   "source": [
    "onfido = str(onfido)\n",
    "\n",
    "#convert to string for parsing"
   ]
  },
  {
   "cell_type": "code",
   "execution_count": 5,
   "metadata": {},
   "outputs": [],
   "source": [
    "start = onfido.find(\"adverse_media\")\n",
    "\n",
    "#find the start of relevant substring"
   ]
  },
  {
   "cell_type": "code",
   "execution_count": 6,
   "metadata": {},
   "outputs": [],
   "source": [
    "end = onfido.find(\"version\") \n",
    "\n",
    "#find the end of relevant substring"
   ]
  },
  {
   "cell_type": "code",
   "execution_count": 7,
   "metadata": {},
   "outputs": [],
   "source": [
    "onfido = onfido[start:end]\n",
    "\n",
    "#select substring - note adverse and version should appear in all responses to this\n",
    "#approach should work consistently with all onfido responses - this will be checked for sure"
   ]
  },
  {
   "cell_type": "code",
   "execution_count": 8,
   "metadata": {},
   "outputs": [],
   "source": [
    "onfido = onfido.split(\",\") \n",
    "\n",
    "#split for easier parsing"
   ]
  },
  {
   "cell_type": "code",
   "execution_count": 9,
   "metadata": {},
   "outputs": [
    {
     "name": "stdout",
     "output_type": "stream",
     "text": [
      "Failed check and result: \"voting_register\":{\"result\":\"unidentified\"\n"
     ]
    }
   ],
   "source": [
    "for i in onfido:                       \n",
    "    if '\"result\":\"unidentified\"' in i:  \n",
    "        print(\"Failed check and result:\", i)\n",
    "        \n",
    "#must find all other possibilities other than unidentified"
   ]
  },
  {
   "cell_type": "markdown",
   "metadata": {},
   "source": [
    "### Facial Similarity Check"
   ]
  },
  {
   "cell_type": "code",
   "execution_count": 10,
   "metadata": {},
   "outputs": [],
   "source": [
    "facial_similarity_score = onfido[31]  \n",
    "\n",
    "#here I am selecting the object in which the facial similarity score is stored"
   ]
  },
  {
   "cell_type": "code",
   "execution_count": 11,
   "metadata": {},
   "outputs": [],
   "source": [
    "facial_similarity_score = float(facial_similarity_score[22:28]) \n",
    "\n",
    "#selecting the numerical values and changing datatype"
   ]
  },
  {
   "cell_type": "code",
   "execution_count": 12,
   "metadata": {},
   "outputs": [
    {
     "name": "stdout",
     "output_type": "stream",
     "text": [
      "ERROR: Facial Similarity Failed\n"
     ]
    }
   ],
   "source": [
    "if facial_similarity_score < 0.8:    \n",
    "    print(\"ERROR: Facial Similarity Failed\")\n",
    "    \n",
    "#pass threshold to be checked and added  "
   ]
  },
  {
   "cell_type": "markdown",
   "metadata": {},
   "source": [
    "# TrueLayer"
   ]
  },
  {
   "cell_type": "code",
   "execution_count": 13,
   "metadata": {},
   "outputs": [],
   "source": [
    "with open('Desktop/TrueLayer_transList_Response_5') as f:   \n",
    "    truelayer = list(f)\n",
    "    \n",
    "#import truelayer raw truelayer response"
   ]
  },
  {
   "cell_type": "code",
   "execution_count": 14,
   "metadata": {},
   "outputs": [],
   "source": [
    "truelayer = str(truelayer) \n",
    "\n",
    "#convert to string for parsing"
   ]
  },
  {
   "cell_type": "code",
   "execution_count": 15,
   "metadata": {},
   "outputs": [],
   "source": [
    "truelayer = truelayer[14:-27]   #select relevant substring - note the start and end will remain constant so this\n",
    "                                #approach should work consistently with truelayer responses with different string lengths\n",
    "                                #this will of course be checked"
   ]
  },
  {
   "cell_type": "code",
   "execution_count": 16,
   "metadata": {},
   "outputs": [],
   "source": [
    "truelayer = str(truelayer) #I have had to reconvert to string for some reason here - this allows parsing later on"
   ]
  },
  {
   "cell_type": "code",
   "execution_count": 17,
   "metadata": {},
   "outputs": [],
   "source": [
    "truelayer = truelayer.split(\"timestamp\") #splitting the string into a list of variables each containing a transaction"
   ]
  },
  {
   "cell_type": "code",
   "execution_count": 18,
   "metadata": {},
   "outputs": [],
   "source": [
    "del truelayer[0] #this is deleting the first object which is created - don't worry it's not a transaction"
   ]
  },
  {
   "cell_type": "code",
   "execution_count": 19,
   "metadata": {},
   "outputs": [],
   "source": [
    "income = [] #creating a list, a sort of folder, which will store all income transactions\n",
    "expenses = [] #creating a list which will store all expense transactions\n",
    "for i in truelayer:\n",
    "    index = i.find(\"amount\")\n",
    "    second_index = index + 8\n",
    "    if i[second_index] is not \"-\":\n",
    "        income.append(i)\n",
    "    else:\n",
    "        expenses.append(i)         #what is happening here is an iteration over all variables ie all transactions, and\n",
    "                                   #where amount is negative - it is stored in expenses list and where it is positive -\n",
    "                                   #it is stored in the income list"
   ]
  },
  {
   "cell_type": "code",
   "execution_count": 20,
   "metadata": {},
   "outputs": [],
   "source": [
    "discretionary_expenses = []  #creating a list which will store discretionary expenses\n",
    "non_discretionary_expenses = [] #creating a list which will store non discretionary expenses\n",
    "\n",
    "for i in expenses:                       #here we iterate over all the objects/variables in the expenses list to then\n",
    "    if \"Entertainment\" in i:            #store in the non discretionary and discretionary lists - as per our decisioning rules\n",
    "        discretionary_expenses.append(i)\n",
    "    \n",
    "    elif \"Coffee\" in i:\n",
    "        discretionary_expenses.append(i)\n",
    "\n",
    "    elif \"Books\" in i:\n",
    "        discretionary_expenses.append(i)\n",
    "    \n",
    "    elif \"Hobbies\" in i:\n",
    "        discretionary_expenses.append(i)\n",
    "    \n",
    "    elif \"Gambling\" in i:\n",
    "        discretionary_expenses.append(i)\n",
    "    \n",
    "    elif \"Bars\" in i:\n",
    "        discretionary_expenses.append(i)\n",
    "    \n",
    "    elif \"Investments\" in i:\n",
    "        discretionary_expenses.append(i)\n",
    "    \n",
    "    elif \"Gifts\" in i:\n",
    "        discretionary_expenses.append(i)\n",
    "    \n",
    "    else:\n",
    "        non_discretionary_expenses.append(i)\n",
    "\n",
    "    "
   ]
  },
  {
   "cell_type": "code",
   "execution_count": 21,
   "metadata": {},
   "outputs": [
    {
     "name": "stdout",
     "output_type": "stream",
     "text": [
      "Total Transactions: 383\n"
     ]
    }
   ],
   "source": [
    "print(\"Total Transactions:\", len(truelayer))\n",
    "\n",
    "#total transactions - not this has been checked with raw response so none are being lost "
   ]
  },
  {
   "cell_type": "code",
   "execution_count": 22,
   "metadata": {},
   "outputs": [
    {
     "name": "stdout",
     "output_type": "stream",
     "text": [
      "Parsing successful!\n"
     ]
    }
   ],
   "source": [
    "if len(income) + len(expenses) != len(truelayer):\n",
    "    print(\"Parsing error - transactions lost\")\n",
    "else:\n",
    "    print('Parsing successful!')\n",
    "    \n",
    "#checking no transactions have been lost in parsing"
   ]
  },
  {
   "cell_type": "code",
   "execution_count": 23,
   "metadata": {},
   "outputs": [
    {
     "name": "stdout",
     "output_type": "stream",
     "text": [
      "Parsing successful!\n"
     ]
    }
   ],
   "source": [
    "if len(non_discretionary_expenses) + len(discretionary_expenses) != len(expenses):\n",
    "    print(\"Parsing error - transactions lost\")\n",
    "else:\n",
    "    print('Parsing successful!')\n",
    "\n",
    "#checking no transactions have been lost in parsing"
   ]
  },
  {
   "cell_type": "code",
   "execution_count": 24,
   "metadata": {},
   "outputs": [
    {
     "data": {
      "text/plain": [
       "'\":\"2020-01-15T00:00:00+00:00\",\"description\":\"SAVE THE CHANGE\",\"transaction_type\":\"DEBIT\",\"transaction_category\":\"BILL_PAYMENT\",\"transaction_classification\":[],\"amount\":-0.55,\"currency\":\"GBP\",\"transaction_id\":\"e9acd603b4fcd03df107e44d7b065099\",\"running_balance\":{\"currency\":\"GBP\",\"amount\":384.98},\"meta\":{\"provider_transaction_category\":\"BP\"}},{\"'"
      ]
     },
     "execution_count": 24,
     "metadata": {},
     "output_type": "execute_result"
    }
   ],
   "source": [
    "non_discretionary_expenses[1]\n",
    "\n",
    "#Here is an example of how each item in the list looks"
   ]
  },
  {
   "cell_type": "markdown",
   "metadata": {},
   "source": [
    "# Non-Discretionary Expenses"
   ]
  },
  {
   "cell_type": "code",
   "execution_count": 25,
   "metadata": {},
   "outputs": [],
   "source": [
    "non_discretionary_dates = []\n",
    "for i in non_discretionary_expenses:\n",
    "    i = i[3:13]\n",
    "    non_discretionary_dates.append(i)\n",
    "    \n",
    "#extracting date data and storing into a list"
   ]
  },
  {
   "cell_type": "code",
   "execution_count": 26,
   "metadata": {},
   "outputs": [],
   "source": [
    "non_discretionary_amounts = []\n",
    "for i in non_discretionary_expenses:\n",
    "    index_amount_start = i.find(\"amount\")\n",
    "    index_amount_start = index_amount_start + 8\n",
    "    index_amount_end = i.find(\"currency\")\n",
    "    index_amount_end = index_amount_end - 2\n",
    "    i = i[index_amount_start:index_amount_end]\n",
    "    non_discretionary_amounts.append(i)\n",
    "    \n",
    "#extracting transaction amount data and storing into a list"
   ]
  },
  {
   "cell_type": "code",
   "execution_count": 27,
   "metadata": {},
   "outputs": [],
   "source": [
    "non_discretionary_data = [non_discretionary_dates, non_discretionary_amounts]\n",
    "\n",
    "#combining date list and transaction amount list\n",
    "#NOTE: the order is being maintained to date will always match the correct transaction"
   ]
  },
  {
   "cell_type": "code",
   "execution_count": 28,
   "metadata": {},
   "outputs": [],
   "source": [
    "non_discretionary_data = pd.DataFrame(non_discretionary_data)\n",
    "\n",
    "#formatting data into a DataFrame - (a table)"
   ]
  },
  {
   "cell_type": "code",
   "execution_count": 29,
   "metadata": {},
   "outputs": [],
   "source": [
    "non_discretionary_data = non_discretionary_data.T\n",
    "\n",
    "#changing layout of table so that it is vertical rather than horizontal "
   ]
  },
  {
   "cell_type": "code",
   "execution_count": 30,
   "metadata": {},
   "outputs": [],
   "source": [
    "non_discretionary_data[0] = pd.to_datetime(non_discretionary_data[0])\n",
    "\n",
    "#changing datatype to date"
   ]
  },
  {
   "cell_type": "code",
   "execution_count": 31,
   "metadata": {},
   "outputs": [],
   "source": [
    "non_discretionary_data[1] = pd.to_numeric(non_discretionary_data[1], downcast=\"float\")\n",
    "\n",
    "#changing datatype to numeric"
   ]
  },
  {
   "cell_type": "code",
   "execution_count": 32,
   "metadata": {},
   "outputs": [],
   "source": [
    "non_discretionary_data = non_discretionary_data.iloc[::-1]\n",
    "\n",
    "#reverse to descending order - so the earliest date is first and the latest date is last"
   ]
  },
  {
   "cell_type": "code",
   "execution_count": 33,
   "metadata": {},
   "outputs": [],
   "source": [
    "non_discretionary_data.index = non_discretionary_data[0]\n",
    "\n",
    "#here I am setting the data column as the index of the table"
   ]
  },
  {
   "cell_type": "code",
   "execution_count": 34,
   "metadata": {},
   "outputs": [],
   "source": [
    "non_discretionary_data = non_discretionary_data.resample('M').sum()\n",
    "\n",
    "#this is an important step: here I group and sum transactions by month"
   ]
  },
  {
   "cell_type": "markdown",
   "metadata": {},
   "source": [
    "# Discretionary Expenses"
   ]
  },
  {
   "cell_type": "code",
   "execution_count": 35,
   "metadata": {},
   "outputs": [],
   "source": [
    "discretionary_dates = []\n",
    "for i in discretionary_expenses:\n",
    "    i = i[3:13]\n",
    "    discretionary_dates.append(i)\n",
    "    \n",
    "#extracting date data and storing into a list"
   ]
  },
  {
   "cell_type": "code",
   "execution_count": 36,
   "metadata": {},
   "outputs": [],
   "source": [
    "discretionary_amounts = []\n",
    "for i in discretionary_expenses:\n",
    "    index_amount_start = i.find(\"amount\")\n",
    "    index_amount_start = index_amount_start + 8\n",
    "    index_amount_end = i.find(\"currency\")\n",
    "    index_amount_end = index_amount_end - 2\n",
    "    i = i[index_amount_start:index_amount_end]\n",
    "    discretionary_amounts.append(i)\n",
    "    \n",
    "#extracting transaction amount data and storing into a list"
   ]
  },
  {
   "cell_type": "code",
   "execution_count": 37,
   "metadata": {},
   "outputs": [],
   "source": [
    "discretionary_data = [discretionary_dates, discretionary_amounts]\n",
    "\n",
    "#combining date list and transaction amount list\n",
    "#NOTE: the order is being maintained to date will always match the correct transaction"
   ]
  },
  {
   "cell_type": "code",
   "execution_count": 38,
   "metadata": {},
   "outputs": [],
   "source": [
    "discretionary_data = pd.DataFrame(discretionary_data)\n",
    "\n",
    "#formatting data into a DataFrame - (a table)"
   ]
  },
  {
   "cell_type": "code",
   "execution_count": 39,
   "metadata": {},
   "outputs": [],
   "source": [
    "discretionary_data = discretionary_data.T\n",
    "\n",
    "#changing layout of table so that it is vertical rather than horizontal "
   ]
  },
  {
   "cell_type": "code",
   "execution_count": 40,
   "metadata": {},
   "outputs": [],
   "source": [
    "discretionary_data[0] = pd.to_datetime(discretionary_data[0])\n",
    "\n",
    "#changing datatype to date"
   ]
  },
  {
   "cell_type": "code",
   "execution_count": 41,
   "metadata": {},
   "outputs": [],
   "source": [
    "discretionary_data[1] = pd.to_numeric(discretionary_data[1], downcast=\"float\")\n",
    "\n",
    "#changing datatype to numeric"
   ]
  },
  {
   "cell_type": "code",
   "execution_count": 42,
   "metadata": {},
   "outputs": [],
   "source": [
    "discretionary_data = discretionary_data.iloc[::-1]\n",
    "\n",
    "#reverse to descending order - so the earliest date is first and the latest date is last"
   ]
  },
  {
   "cell_type": "code",
   "execution_count": 43,
   "metadata": {},
   "outputs": [],
   "source": [
    "discretionary_data.index = discretionary_data[0]\n",
    "\n",
    "#here I am setting the data column as the index of the table"
   ]
  },
  {
   "cell_type": "code",
   "execution_count": 44,
   "metadata": {},
   "outputs": [],
   "source": [
    "discretionary_data = discretionary_data.resample('M').sum()\n",
    "\n",
    "#this is an important step: here I group and sum transactions by month"
   ]
  },
  {
   "cell_type": "markdown",
   "metadata": {},
   "source": [
    "# Income"
   ]
  },
  {
   "cell_type": "code",
   "execution_count": 45,
   "metadata": {},
   "outputs": [],
   "source": [
    "income_dates = []\n",
    "for i in income:\n",
    "    i = i[3:13]\n",
    "    income_dates.append(i)\n",
    "\n",
    "#extracting date data and storing into a list"
   ]
  },
  {
   "cell_type": "code",
   "execution_count": 46,
   "metadata": {},
   "outputs": [],
   "source": [
    "income_amounts = []\n",
    "for i in income:\n",
    "    index_amount_start = i.find(\"amount\")\n",
    "    index_amount_start = index_amount_start + 8\n",
    "    index_amount_end = i.find(\"currency\")\n",
    "    index_amount_end = index_amount_end - 2\n",
    "    i = i[index_amount_start:index_amount_end]\n",
    "    income_amounts.append(i)\n",
    "    \n",
    "#extracting transaction amount data and storing into a list"
   ]
  },
  {
   "cell_type": "code",
   "execution_count": 47,
   "metadata": {},
   "outputs": [],
   "source": [
    "income_data = [income_dates, income_amounts]\n",
    "\n",
    "#combining date list and transaction amount list\n",
    "#NOTE: the order is being maintained to date will always match the correct transaction"
   ]
  },
  {
   "cell_type": "code",
   "execution_count": 48,
   "metadata": {},
   "outputs": [],
   "source": [
    "income_data = pd.DataFrame(income_data)\n",
    "\n",
    "#formatting data into a DataFrame - (a table)"
   ]
  },
  {
   "cell_type": "code",
   "execution_count": 49,
   "metadata": {},
   "outputs": [],
   "source": [
    "income_data = income_data.T\n",
    "\n",
    "#changing layout of table so that it is vertical rather than horizontal "
   ]
  },
  {
   "cell_type": "code",
   "execution_count": 50,
   "metadata": {},
   "outputs": [],
   "source": [
    "income_data[0] = pd.to_datetime(income_data[0])\n",
    "\n",
    "#changing datatype to date"
   ]
  },
  {
   "cell_type": "code",
   "execution_count": 51,
   "metadata": {},
   "outputs": [],
   "source": [
    "income_data[1] = pd.to_numeric(income_data[1], downcast=\"float\")\n",
    "\n",
    "#changing datatype to numeric"
   ]
  },
  {
   "cell_type": "code",
   "execution_count": 52,
   "metadata": {},
   "outputs": [],
   "source": [
    "income_data = income_data.iloc[::-1] \n",
    "\n",
    "#reverse to descending order - so the earliest date is first and the latest date is last"
   ]
  },
  {
   "cell_type": "code",
   "execution_count": 53,
   "metadata": {},
   "outputs": [],
   "source": [
    "income_data.index = income_data[0]\n",
    "\n",
    "#here I am setting the data column as the index of the table"
   ]
  },
  {
   "cell_type": "code",
   "execution_count": 54,
   "metadata": {},
   "outputs": [],
   "source": [
    "income_data = income_data.resample('M').sum()\n",
    "\n",
    "#this is an important step: here I group and sum transactions by month"
   ]
  },
  {
   "cell_type": "markdown",
   "metadata": {},
   "source": [
    "## Creating an 'All Months' table - containing all months regardless of number of days of data"
   ]
  },
  {
   "cell_type": "code",
   "execution_count": 55,
   "metadata": {},
   "outputs": [],
   "source": [
    "discretionary_data = discretionary_data.rename(columns = {1:'Discretionary Expenses (GBP)'})\n",
    "non_discretionary_data = non_discretionary_data.rename(columns = {1:'Non-Discretionary Expenses (GBP)'})\n",
    "income_data = income_data.rename(columns = {1:'Income (GBP)'})\n",
    "\n",
    "#here I am labeling transaction columns in the respective tables "
   ]
  },
  {
   "cell_type": "code",
   "execution_count": 56,
   "metadata": {},
   "outputs": [],
   "source": [
    "all_months = pd.concat([income_data, non_discretionary_data, discretionary_data], axis=1, sort=False)\n",
    "\n",
    "#joining the three data sets into one table"
   ]
  },
  {
   "cell_type": "code",
   "execution_count": 57,
   "metadata": {},
   "outputs": [],
   "source": [
    "all_months = all_months.fillna(0)\n",
    "\n",
    "#if there are no transactions in a column for a particular months, pandas stores\n",
    "#this as a null value - however in reality this represents a zero - so here I am\n",
    "#changing any null values to zero "
   ]
  },
  {
   "cell_type": "code",
   "execution_count": 58,
   "metadata": {},
   "outputs": [],
   "source": [
    "all_months['Monthly Surplus (GBP)'] = (all_months['Income (GBP)'] + all_months['Non-Discretionary Expenses (GBP)']\n",
    "                                 + all_months['Discretionary Expenses (GBP)'])"
   ]
  },
  {
   "cell_type": "markdown",
   "metadata": {},
   "source": [
    "## Creating a 'Full Months' table - months with 26 or more days of data"
   ]
  },
  {
   "cell_type": "code",
   "execution_count": 59,
   "metadata": {},
   "outputs": [],
   "source": [
    "start_of_pull = truelayer[-1]  \n",
    "start_of_pull = start_of_pull[3:13]\n",
    "\n",
    "#here I am locating the first transaction in the raw data and extracting the date of the transaction"
   ]
  },
  {
   "cell_type": "code",
   "execution_count": 60,
   "metadata": {},
   "outputs": [],
   "source": [
    "if start_of_pull[8:10] is not '01' or '02' or '31' or '30' :\n",
    "    income_data = income_data[1:]\n",
    "    discretionary_data = discretionary_data[1:]\n",
    "    non_discretionary_data = non_discretionary_data[1:]\n",
    "\n",
    "else:\n",
    "    pass\n",
    "\n",
    "#here I am saying: if the start of the pull (which will be the earliest transaction date in the file) is not\n",
    "#either on the 1,2,31,02 of the month or 28 and 29 for February - then this first month is dropped from the data"
   ]
  },
  {
   "cell_type": "code",
   "execution_count": 61,
   "metadata": {},
   "outputs": [],
   "source": [
    "if end_of_pull[8:10] is not '31' or '30' or '01' or '02' or end_of_pull[5:10] is '02:28'or '02:29':\n",
    "    income_data = income_data.head(-1)\n",
    "    discretionary_data = discretionary_data.head(-1)\n",
    "    non_discretionary_data = non_discretionary_data.head(-1)\n",
    "\n",
    "else:\n",
    "    pass\n",
    "\n",
    "\n",
    "\n",
    "#here I am saying: if the end of the pull, (which will be the date of the application) is not either on the 1,2,31,02\n",
    "#of the month or 28 and 29 for February - then this last month is dropped from the data\n",
    "#NOTE: end_of_pull is to be inputted/saved as a variable at the top of the notebook - I have left an explanation there"
   ]
  },
  {
   "cell_type": "code",
   "execution_count": 62,
   "metadata": {},
   "outputs": [],
   "source": [
    "full_months = pd.concat([income_data, non_discretionary_data, discretionary_data], axis=1, sort=False) \n",
    "\n",
    "#joining the three data sets into one table"
   ]
  },
  {
   "cell_type": "code",
   "execution_count": 63,
   "metadata": {},
   "outputs": [],
   "source": [
    "full_months = full_months.fillna(0) \n",
    "\n",
    "#if there are no transactions in a column for a particular months, pandas stores\n",
    "#this as a null value - however in reality this represents a zero - so here I am\n",
    "#changing any null values to zero "
   ]
  },
  {
   "cell_type": "code",
   "execution_count": 64,
   "metadata": {},
   "outputs": [],
   "source": [
    "full_months['Monthly Surplus (GBP)'] = (full_months['Income (GBP)'] + full_months['Non-Discretionary Expenses (GBP)']\n",
    "                                 + full_months['Discretionary Expenses (GBP)'])\n",
    "\n",
    "#here I am creating a new column which will show surplus for each month"
   ]
  },
  {
   "cell_type": "code",
   "execution_count": 65,
   "metadata": {},
   "outputs": [],
   "source": [
    "full_months.index.name = 'Month' \n",
    "all_months.index.name = 'Month'\n",
    "\n",
    "#Giving a name to the index - which represents month"
   ]
  },
  {
   "cell_type": "markdown",
   "metadata": {},
   "source": [
    "# True Layer Outputs/Decisioning "
   ]
  },
  {
   "cell_type": "code",
   "execution_count": 66,
   "metadata": {},
   "outputs": [
    {
     "data": {
      "text/html": [
       "<div>\n",
       "<style scoped>\n",
       "    .dataframe tbody tr th:only-of-type {\n",
       "        vertical-align: middle;\n",
       "    }\n",
       "\n",
       "    .dataframe tbody tr th {\n",
       "        vertical-align: top;\n",
       "    }\n",
       "\n",
       "    .dataframe thead th {\n",
       "        text-align: right;\n",
       "    }\n",
       "</style>\n",
       "<table border=\"1\" class=\"dataframe\">\n",
       "  <thead>\n",
       "    <tr style=\"text-align: right;\">\n",
       "      <th></th>\n",
       "      <th>Income (GBP)</th>\n",
       "      <th>Non-Discretionary Expenses (GBP)</th>\n",
       "      <th>Discretionary Expenses (GBP)</th>\n",
       "      <th>Monthly Surplus (GBP)</th>\n",
       "    </tr>\n",
       "    <tr>\n",
       "      <th>Month</th>\n",
       "      <th></th>\n",
       "      <th></th>\n",
       "      <th></th>\n",
       "      <th></th>\n",
       "    </tr>\n",
       "  </thead>\n",
       "  <tbody>\n",
       "    <tr>\n",
       "      <td>2019-10-31</td>\n",
       "      <td>1468.92</td>\n",
       "      <td>-1156.47</td>\n",
       "      <td>-35.00</td>\n",
       "      <td>277.45</td>\n",
       "    </tr>\n",
       "    <tr>\n",
       "      <td>2019-11-30</td>\n",
       "      <td>3123.24</td>\n",
       "      <td>-2822.75</td>\n",
       "      <td>-300.49</td>\n",
       "      <td>0.00</td>\n",
       "    </tr>\n",
       "    <tr>\n",
       "      <td>2019-12-31</td>\n",
       "      <td>3123.24</td>\n",
       "      <td>-2822.75</td>\n",
       "      <td>-300.49</td>\n",
       "      <td>0.00</td>\n",
       "    </tr>\n",
       "    <tr>\n",
       "      <td>2020-01-31</td>\n",
       "      <td>1434.51</td>\n",
       "      <td>-1586.55</td>\n",
       "      <td>-265.49</td>\n",
       "      <td>-417.53</td>\n",
       "    </tr>\n",
       "  </tbody>\n",
       "</table>\n",
       "</div>"
      ],
      "text/plain": [
       "            Income (GBP)  Non-Discretionary Expenses (GBP)  \\\n",
       "Month                                                        \n",
       "2019-10-31       1468.92                          -1156.47   \n",
       "2019-11-30       3123.24                          -2822.75   \n",
       "2019-12-31       3123.24                          -2822.75   \n",
       "2020-01-31       1434.51                          -1586.55   \n",
       "\n",
       "            Discretionary Expenses (GBP)  Monthly Surplus (GBP)  \n",
       "Month                                                            \n",
       "2019-10-31                        -35.00                 277.45  \n",
       "2019-11-30                       -300.49                   0.00  \n",
       "2019-12-31                       -300.49                   0.00  \n",
       "2020-01-31                       -265.49                -417.53  "
      ]
     },
     "execution_count": 66,
     "metadata": {},
     "output_type": "execute_result"
    }
   ],
   "source": [
    "all_months  #This table shows all months from the original TrueLayer pull"
   ]
  },
  {
   "cell_type": "code",
   "execution_count": 67,
   "metadata": {},
   "outputs": [
    {
     "data": {
      "text/html": [
       "<div>\n",
       "<style scoped>\n",
       "    .dataframe tbody tr th:only-of-type {\n",
       "        vertical-align: middle;\n",
       "    }\n",
       "\n",
       "    .dataframe tbody tr th {\n",
       "        vertical-align: top;\n",
       "    }\n",
       "\n",
       "    .dataframe thead th {\n",
       "        text-align: right;\n",
       "    }\n",
       "</style>\n",
       "<table border=\"1\" class=\"dataframe\">\n",
       "  <thead>\n",
       "    <tr style=\"text-align: right;\">\n",
       "      <th></th>\n",
       "      <th>Income (GBP)</th>\n",
       "      <th>Non-Discretionary Expenses (GBP)</th>\n",
       "      <th>Discretionary Expenses (GBP)</th>\n",
       "      <th>Monthly Surplus (GBP)</th>\n",
       "    </tr>\n",
       "    <tr>\n",
       "      <th>Month</th>\n",
       "      <th></th>\n",
       "      <th></th>\n",
       "      <th></th>\n",
       "      <th></th>\n",
       "    </tr>\n",
       "  </thead>\n",
       "  <tbody>\n",
       "    <tr>\n",
       "      <td>2019-11-30</td>\n",
       "      <td>3123.24</td>\n",
       "      <td>-2822.75</td>\n",
       "      <td>-300.49</td>\n",
       "      <td>0.00</td>\n",
       "    </tr>\n",
       "    <tr>\n",
       "      <td>2019-12-31</td>\n",
       "      <td>3123.24</td>\n",
       "      <td>-2822.75</td>\n",
       "      <td>-300.49</td>\n",
       "      <td>0.00</td>\n",
       "    </tr>\n",
       "  </tbody>\n",
       "</table>\n",
       "</div>"
      ],
      "text/plain": [
       "            Income (GBP)  Non-Discretionary Expenses (GBP)  \\\n",
       "Month                                                        \n",
       "2019-11-30       3123.24                          -2822.75   \n",
       "2019-12-31       3123.24                          -2822.75   \n",
       "\n",
       "            Discretionary Expenses (GBP)  Monthly Surplus (GBP)  \n",
       "Month                                                            \n",
       "2019-11-30                       -300.49                   0.00  \n",
       "2019-12-31                       -300.49                   0.00  "
      ]
     },
     "execution_count": 67,
     "metadata": {},
     "output_type": "execute_result"
    }
   ],
   "source": [
    "full_months #This table shows all FULL months from the original TrueLayer pull\n",
    "            #Full is defined as starting and ending on either 30,31,1,2 of the month or 28,29 for February"
   ]
  },
  {
   "cell_type": "markdown",
   "metadata": {},
   "source": [
    "### NOTE: All calculations are made from the full_months table containing months for which we have at least 26 days worth of data"
   ]
  },
  {
   "cell_type": "code",
   "execution_count": 68,
   "metadata": {},
   "outputs": [
    {
     "name": "stdout",
     "output_type": "stream",
     "text": [
      "Total Income is 6246.48 GBP\n"
     ]
    }
   ],
   "source": [
    "full_income = full_months['Income (GBP)'].sum()\n",
    "print('Total Income is', full_income, 'GBP')"
   ]
  },
  {
   "cell_type": "code",
   "execution_count": 69,
   "metadata": {},
   "outputs": [
    {
     "name": "stdout",
     "output_type": "stream",
     "text": [
      "Total Discretionary Expenses are -600.98 GBP\n"
     ]
    }
   ],
   "source": [
    "disc = full_months['Discretionary Expenses (GBP)'].sum()\n",
    "print('Total Discretionary Expenses are', disc, 'GBP')"
   ]
  },
  {
   "cell_type": "code",
   "execution_count": 70,
   "metadata": {},
   "outputs": [
    {
     "name": "stdout",
     "output_type": "stream",
     "text": [
      "Total Non-Discretionary Expenses are -5645.5 GBP\n"
     ]
    }
   ],
   "source": [
    "non_disc = full_months['Non-Discretionary Expenses (GBP)'].sum()\n",
    "print('Total Non-Discretionary Expenses are', non_disc, 'GBP')"
   ]
  },
  {
   "cell_type": "code",
   "execution_count": 71,
   "metadata": {},
   "outputs": [
    {
     "name": "stdout",
     "output_type": "stream",
     "text": [
      "Total Expenses are -6246.48 GBP\n"
     ]
    }
   ],
   "source": [
    "total_expenses = full_months['Discretionary Expenses (GBP)'].sum() + full_months['Non-Discretionary Expenses (GBP)'].sum()\n",
    "print('Total Expenses are', total_expenses, 'GBP')"
   ]
  },
  {
   "cell_type": "code",
   "execution_count": 72,
   "metadata": {},
   "outputs": [
    {
     "name": "stdout",
     "output_type": "stream",
     "text": [
      "Monthly surplus is 0.0 GBP\n"
     ]
    }
   ],
   "source": [
    "monthly_surplus = full_months['Monthly Surplus (GBP)'].mean()\n",
    "print('Monthly surplus is', monthly_surplus, \"GBP\")"
   ]
  },
  {
   "cell_type": "code",
   "execution_count": 73,
   "metadata": {},
   "outputs": [
    {
     "name": "stdout",
     "output_type": "stream",
     "text": [
      "APPLICATION DECLINED: Affordability checks failed as Credit Limit is below £250\n"
     ]
    }
   ],
   "source": [
    "credit_limit = full_months['Monthly Surplus (GBP)'].mean() * 10\n",
    "if credit_limit > 250:\n",
    "    print('credit limit for', application_ID, 'is', credit_limit, 'GBP')\n",
    "else:\n",
    "    print(\"APPLICATION DECLINED: Affordability checks failed as Credit Limit is below £250\")"
   ]
  },
  {
   "cell_type": "code",
   "execution_count": 74,
   "metadata": {},
   "outputs": [
    {
     "name": "stdout",
     "output_type": "stream",
     "text": [
      "APPLICATION DECLINED: Credit Limit is less than size of Loan\n"
     ]
    }
   ],
   "source": [
    "if credit_limit < loan:\n",
    "    print(\"APPLICATION DECLINED: Credit Limit is less than size of Loan\")"
   ]
  },
  {
   "cell_type": "code",
   "execution_count": 75,
   "metadata": {},
   "outputs": [
    {
     "name": "stdout",
     "output_type": "stream",
     "text": [
      "NO MAX MONTHLY REPAYMENT AS APPLICATIOND DECLINED\n"
     ]
    }
   ],
   "source": [
    "if credit_limit > 250:\n",
    "    print('Maximum monthly repayment is', monthly_surplus)\n",
    "else:\n",
    "    print('NO MAX MONTHLY REPAYMENT AS APPLICATIOND DECLINED')"
   ]
  },
  {
   "cell_type": "markdown",
   "metadata": {},
   "source": [
    "# Automated Decisioning from SalesForce Report"
   ]
  },
  {
   "cell_type": "markdown",
   "metadata": {},
   "source": [
    "This section of the notebook runs secondary decisioning checks with some reliance on the primary systems with regard to parsing - however the checks themselves are run indepedently. "
   ]
  },
  {
   "cell_type": "code",
   "execution_count": 76,
   "metadata": {},
   "outputs": [],
   "source": [
    "colnames=['Application ID', 'TrueLayer Junction', 'Transaction Account', 'Bank Account', 'Transaction Type',\n",
    "         'Transaction Category', 'Amount', 'Description', 'Sub-Category', 'Transaction Classification',\n",
    "          'Merchant Name', 'Timestamp']\n",
    "report_original = pd.read_excel(r'Desktop/TrueLayer Transactions List Report-2020-03-25-16-45-06.xlsx',\n",
    "                       usecols = [1,4,7,8,12,13,14,15,16,19,20,21], names = colnames)\n",
    "\n",
    "#import data from Salesforce"
   ]
  },
  {
   "cell_type": "code",
   "execution_count": 77,
   "metadata": {},
   "outputs": [],
   "source": [
    "report_original = report_original[11:-2]  #remove uneeded rows leaving only data columns"
   ]
  },
  {
   "cell_type": "code",
   "execution_count": 78,
   "metadata": {},
   "outputs": [
    {
     "name": "stdout",
     "output_type": "stream",
     "text": [
      "List of Accounts in the pull:\n",
      "BA INFO - 003634\n",
      "BA INFO - 003636\n",
      "BA INFO - 003637\n"
     ]
    }
   ],
   "source": [
    "list_of_accounts = []\n",
    "print('List of Accounts in the pull:')\n",
    "for i in report_original[\"Bank Account\"].unique():\n",
    "    print(i)\n",
    "    list_of_accounts.append(i)\n",
    "    \n",
    "#print list of bank accounts we have data on for applicant in question"
   ]
  },
  {
   "cell_type": "code",
   "execution_count": 79,
   "metadata": {},
   "outputs": [],
   "source": [
    "report = [pd.DataFrame(y) for x, y in report_original.groupby('Bank Account', as_index=False)]\n",
    "\n",
    "#groupby bank account"
   ]
  },
  {
   "cell_type": "code",
   "execution_count": 80,
   "metadata": {},
   "outputs": [],
   "source": [
    "disc_list = ['Gambling,Lottery', 'Gambling,Casino', 'Gambling,Betting', 'Investments,Bonds', 'Investments,Equities', \n",
    "'Gifts & Donations,Charity', 'Gifts & Donations,Gifts', 'Food & Dining,Coffee shops', 'Food & Dining,Bars'\n",
    "'Shopping,Hobbies', 'Shopping,Books', 'Entertainment,Social Club', 'Entertainment,Movies & DVDs',\n",
    "'Entertainment,Dating', 'Entertainment,Music', 'Entertainment,Arts', 'Entertainment,Games', 'Entertainment']\n",
    "\n",
    "#listing all results in transaction classification that should result in transaction being placed in\n",
    "#discretionary expenses list as per classification criteria"
   ]
  },
  {
   "cell_type": "markdown",
   "metadata": {},
   "source": [
    "### The cell below iterates over the list of transaction accounts and assigning all transactions to Income, Non-Discretionary and Discretionary 'buckets'."
   ]
  },
  {
   "cell_type": "code",
   "execution_count": 81,
   "metadata": {},
   "outputs": [],
   "source": [
    "accounts = []\n",
    "for i in report:\n",
    "    Income = i[i['Amount'] > 0]          \n",
    "    Expenses = i[i['Amount'] < 0]\n",
    "    \n",
    "    #split each transaction account into income and expenses  \n",
    "    \n",
    "    discretionary = Expenses.loc[Expenses['Transaction Classification'].isin(disc_list)]      \n",
    "    non_discretionary = Expenses.loc[~Expenses['Transaction Classification'].isin(disc_list)]\n",
    "            \n",
    "    #split expenses transactions for each transaction account into discretionary and non-discretionary\n",
    "\n",
    "    Income['Timestamp'] = pd.to_datetime(Income['Timestamp'])\n",
    "    non_discretionary['Timestamp'] = pd.to_datetime(non_discretionary['Timestamp'])\n",
    "    discretionary['Timestamp'] = pd.to_datetime(discretionary['Timestamp'])\n",
    "    \n",
    "    #change timestamp column to datetime\n",
    "    \n",
    "    Income = Income[[\"Timestamp\", \"Amount\"]]\n",
    "    Income.index = Income[\"Timestamp\"]\n",
    "    \n",
    "    #select only relevant columns containing date and amount\n",
    "    \n",
    "    non_discretionary = non_discretionary[[\"Timestamp\", \"Amount\"]]\n",
    "    non_discretionary.index = non_discretionary[\"Timestamp\"]\n",
    "    \n",
    "    #select only relevant columns containing date and amount\n",
    "    \n",
    "    discretionary = discretionary[[\"Timestamp\", \"Amount\"]]\n",
    "    discretionary.index = discretionary[\"Timestamp\"]\n",
    "    \n",
    "    #select only relevant columns containing date and amount\n",
    "    \n",
    "    discretionary = discretionary.rename(columns = {'Amount':'Discretionary Expenses (GBP)'})\n",
    "    non_discretionary = non_discretionary.rename(columns = {'Amount':'Non-Discretionary Expenses (GBP)'})\n",
    "    Income = Income.rename(columns = {'Amount':'Income (GBP)'})\n",
    "\n",
    "    #rename amount columns\n",
    "    \n",
    "    Income = Income.resample('M').sum()\n",
    "    non_discretionary = non_discretionary.resample('M').sum()\n",
    "    discretionary = discretionary.resample('M').sum()\n",
    "    \n",
    "    #resampling and sum on the month - this is like a groupby - so we get sum of income etc for each month\n",
    "    #NOTE:the first and last months are likely to be incomplete as this is based on calendar month\n",
    "   \n",
    "    \n",
    "    full_data_set = pd.concat([Income, non_discretionary, discretionary], axis=1, sort=False)\n",
    "    \n",
    "    #join the three tables together \n",
    "    \n",
    "    full_data_set['Monthly Surplus (GBP)'] = (full_data_set['Income (GBP)'] + full_data_set['Non-Discretionary Expenses (GBP)']\n",
    "    + full_data_set['Discretionary Expenses (GBP)'])\n",
    "    \n",
    "    #calculate Monthly Surplus\n",
    "\n",
    "    \n",
    "    accounts.append(full_data_set)\n",
    "    \n",
    "    #accounts will contain the list of tables the above code has created"
   ]
  },
  {
   "cell_type": "code",
   "execution_count": 82,
   "metadata": {},
   "outputs": [
    {
     "data": {
      "text/html": [
       "<style>\n",
       ".output {\n",
       "    flex-direction: column;\n",
       "}\n",
       "</style>"
      ],
      "text/plain": [
       "<IPython.core.display.HTML object>"
      ]
     },
     "execution_count": 82,
     "metadata": {},
     "output_type": "execute_result"
    }
   ],
   "source": [
    "from IPython.display import display, HTML    \n",
    "\n",
    "CSS = \"\"\"\n",
    ".output {\n",
    "    flex-direction: column;\n",
    "}\n",
    "\"\"\"\n",
    "\n",
    "HTML('<style>{}</style>'.format(CSS))\n",
    "\n",
    "#this step is to be able to display all three tables at once "
   ]
  },
  {
   "cell_type": "code",
   "execution_count": 83,
   "metadata": {},
   "outputs": [
    {
     "name": "stdout",
     "output_type": "stream",
     "text": [
      "BA INFO - 003634\n"
     ]
    },
    {
     "data": {
      "text/html": [
       "<div>\n",
       "<style scoped>\n",
       "    .dataframe tbody tr th:only-of-type {\n",
       "        vertical-align: middle;\n",
       "    }\n",
       "\n",
       "    .dataframe tbody tr th {\n",
       "        vertical-align: top;\n",
       "    }\n",
       "\n",
       "    .dataframe thead th {\n",
       "        text-align: right;\n",
       "    }\n",
       "</style>\n",
       "<table border=\"1\" class=\"dataframe\">\n",
       "  <thead>\n",
       "    <tr style=\"text-align: right;\">\n",
       "      <th></th>\n",
       "      <th>Income (GBP)</th>\n",
       "      <th>Non-Discretionary Expenses (GBP)</th>\n",
       "      <th>Discretionary Expenses (GBP)</th>\n",
       "      <th>Monthly Surplus (GBP)</th>\n",
       "    </tr>\n",
       "    <tr>\n",
       "      <th>Timestamp</th>\n",
       "      <th></th>\n",
       "      <th></th>\n",
       "      <th></th>\n",
       "      <th></th>\n",
       "    </tr>\n",
       "  </thead>\n",
       "  <tbody>\n",
       "    <tr>\n",
       "      <td>2019-12-31 00:00:00+00:00</td>\n",
       "      <td>651.37</td>\n",
       "      <td>-472.98</td>\n",
       "      <td>-10.50</td>\n",
       "      <td>167.89</td>\n",
       "    </tr>\n",
       "    <tr>\n",
       "      <td>2020-01-31 00:00:00+00:00</td>\n",
       "      <td>3123.24</td>\n",
       "      <td>-3077.25</td>\n",
       "      <td>-45.99</td>\n",
       "      <td>-0.00</td>\n",
       "    </tr>\n",
       "    <tr>\n",
       "      <td>2020-02-29 00:00:00+00:00</td>\n",
       "      <td>3123.24</td>\n",
       "      <td>-3077.25</td>\n",
       "      <td>-45.99</td>\n",
       "      <td>-0.00</td>\n",
       "    </tr>\n",
       "    <tr>\n",
       "      <td>2020-03-31 00:00:00+00:00</td>\n",
       "      <td>1654.32</td>\n",
       "      <td>-1901.28</td>\n",
       "      <td>-35.49</td>\n",
       "      <td>-282.45</td>\n",
       "    </tr>\n",
       "  </tbody>\n",
       "</table>\n",
       "</div>"
      ],
      "text/plain": [
       "                           Income (GBP)  Non-Discretionary Expenses (GBP)  \\\n",
       "Timestamp                                                                   \n",
       "2019-12-31 00:00:00+00:00        651.37                           -472.98   \n",
       "2020-01-31 00:00:00+00:00       3123.24                          -3077.25   \n",
       "2020-02-29 00:00:00+00:00       3123.24                          -3077.25   \n",
       "2020-03-31 00:00:00+00:00       1654.32                          -1901.28   \n",
       "\n",
       "                           Discretionary Expenses (GBP)  Monthly Surplus (GBP)  \n",
       "Timestamp                                                                       \n",
       "2019-12-31 00:00:00+00:00                        -10.50                 167.89  \n",
       "2020-01-31 00:00:00+00:00                        -45.99                  -0.00  \n",
       "2020-02-29 00:00:00+00:00                        -45.99                  -0.00  \n",
       "2020-03-31 00:00:00+00:00                        -35.49                -282.45  "
      ]
     },
     "metadata": {},
     "output_type": "display_data"
    },
    {
     "name": "stdout",
     "output_type": "stream",
     "text": [
      "BA INFO - 003636\n"
     ]
    },
    {
     "data": {
      "text/html": [
       "<div>\n",
       "<style scoped>\n",
       "    .dataframe tbody tr th:only-of-type {\n",
       "        vertical-align: middle;\n",
       "    }\n",
       "\n",
       "    .dataframe tbody tr th {\n",
       "        vertical-align: top;\n",
       "    }\n",
       "\n",
       "    .dataframe thead th {\n",
       "        text-align: right;\n",
       "    }\n",
       "</style>\n",
       "<table border=\"1\" class=\"dataframe\">\n",
       "  <thead>\n",
       "    <tr style=\"text-align: right;\">\n",
       "      <th></th>\n",
       "      <th>Income (GBP)</th>\n",
       "      <th>Non-Discretionary Expenses (GBP)</th>\n",
       "      <th>Discretionary Expenses (GBP)</th>\n",
       "      <th>Monthly Surplus (GBP)</th>\n",
       "    </tr>\n",
       "    <tr>\n",
       "      <th>Timestamp</th>\n",
       "      <th></th>\n",
       "      <th></th>\n",
       "      <th></th>\n",
       "      <th></th>\n",
       "    </tr>\n",
       "  </thead>\n",
       "  <tbody>\n",
       "    <tr>\n",
       "      <td>2019-12-31 00:00:00+00:00</td>\n",
       "      <td>651.37</td>\n",
       "      <td>-472.98</td>\n",
       "      <td>-10.50</td>\n",
       "      <td>167.89</td>\n",
       "    </tr>\n",
       "    <tr>\n",
       "      <td>2020-01-31 00:00:00+00:00</td>\n",
       "      <td>3123.24</td>\n",
       "      <td>-3077.25</td>\n",
       "      <td>-45.99</td>\n",
       "      <td>-0.00</td>\n",
       "    </tr>\n",
       "    <tr>\n",
       "      <td>2020-02-29 00:00:00+00:00</td>\n",
       "      <td>3123.24</td>\n",
       "      <td>-3077.25</td>\n",
       "      <td>-45.99</td>\n",
       "      <td>-0.00</td>\n",
       "    </tr>\n",
       "    <tr>\n",
       "      <td>2020-03-31 00:00:00+00:00</td>\n",
       "      <td>1654.32</td>\n",
       "      <td>-1901.28</td>\n",
       "      <td>-35.49</td>\n",
       "      <td>-282.45</td>\n",
       "    </tr>\n",
       "  </tbody>\n",
       "</table>\n",
       "</div>"
      ],
      "text/plain": [
       "                           Income (GBP)  Non-Discretionary Expenses (GBP)  \\\n",
       "Timestamp                                                                   \n",
       "2019-12-31 00:00:00+00:00        651.37                           -472.98   \n",
       "2020-01-31 00:00:00+00:00       3123.24                          -3077.25   \n",
       "2020-02-29 00:00:00+00:00       3123.24                          -3077.25   \n",
       "2020-03-31 00:00:00+00:00       1654.32                          -1901.28   \n",
       "\n",
       "                           Discretionary Expenses (GBP)  Monthly Surplus (GBP)  \n",
       "Timestamp                                                                       \n",
       "2019-12-31 00:00:00+00:00                        -10.50                 167.89  \n",
       "2020-01-31 00:00:00+00:00                        -45.99                  -0.00  \n",
       "2020-02-29 00:00:00+00:00                        -45.99                  -0.00  \n",
       "2020-03-31 00:00:00+00:00                        -35.49                -282.45  "
      ]
     },
     "metadata": {},
     "output_type": "display_data"
    },
    {
     "name": "stdout",
     "output_type": "stream",
     "text": [
      "BA INFO - 003637\n"
     ]
    },
    {
     "data": {
      "text/html": [
       "<div>\n",
       "<style scoped>\n",
       "    .dataframe tbody tr th:only-of-type {\n",
       "        vertical-align: middle;\n",
       "    }\n",
       "\n",
       "    .dataframe tbody tr th {\n",
       "        vertical-align: top;\n",
       "    }\n",
       "\n",
       "    .dataframe thead th {\n",
       "        text-align: right;\n",
       "    }\n",
       "</style>\n",
       "<table border=\"1\" class=\"dataframe\">\n",
       "  <thead>\n",
       "    <tr style=\"text-align: right;\">\n",
       "      <th></th>\n",
       "      <th>Income (GBP)</th>\n",
       "      <th>Non-Discretionary Expenses (GBP)</th>\n",
       "      <th>Discretionary Expenses (GBP)</th>\n",
       "      <th>Monthly Surplus (GBP)</th>\n",
       "    </tr>\n",
       "    <tr>\n",
       "      <th>Timestamp</th>\n",
       "      <th></th>\n",
       "      <th></th>\n",
       "      <th></th>\n",
       "      <th></th>\n",
       "    </tr>\n",
       "  </thead>\n",
       "  <tbody>\n",
       "    <tr>\n",
       "      <td>2019-12-31 00:00:00+00:00</td>\n",
       "      <td>651.37</td>\n",
       "      <td>-472.98</td>\n",
       "      <td>-10.50</td>\n",
       "      <td>167.89</td>\n",
       "    </tr>\n",
       "    <tr>\n",
       "      <td>2020-01-31 00:00:00+00:00</td>\n",
       "      <td>3123.24</td>\n",
       "      <td>-3077.25</td>\n",
       "      <td>-45.99</td>\n",
       "      <td>-0.00</td>\n",
       "    </tr>\n",
       "    <tr>\n",
       "      <td>2020-02-29 00:00:00+00:00</td>\n",
       "      <td>3123.24</td>\n",
       "      <td>-3077.25</td>\n",
       "      <td>-45.99</td>\n",
       "      <td>-0.00</td>\n",
       "    </tr>\n",
       "    <tr>\n",
       "      <td>2020-03-31 00:00:00+00:00</td>\n",
       "      <td>1654.32</td>\n",
       "      <td>-1901.28</td>\n",
       "      <td>-35.49</td>\n",
       "      <td>-282.45</td>\n",
       "    </tr>\n",
       "  </tbody>\n",
       "</table>\n",
       "</div>"
      ],
      "text/plain": [
       "                           Income (GBP)  Non-Discretionary Expenses (GBP)  \\\n",
       "Timestamp                                                                   \n",
       "2019-12-31 00:00:00+00:00        651.37                           -472.98   \n",
       "2020-01-31 00:00:00+00:00       3123.24                          -3077.25   \n",
       "2020-02-29 00:00:00+00:00       3123.24                          -3077.25   \n",
       "2020-03-31 00:00:00+00:00       1654.32                          -1901.28   \n",
       "\n",
       "                           Discretionary Expenses (GBP)  Monthly Surplus (GBP)  \n",
       "Timestamp                                                                       \n",
       "2019-12-31 00:00:00+00:00                        -10.50                 167.89  \n",
       "2020-01-31 00:00:00+00:00                        -45.99                  -0.00  \n",
       "2020-02-29 00:00:00+00:00                        -45.99                  -0.00  \n",
       "2020-03-31 00:00:00+00:00                        -35.49                -282.45  "
      ]
     },
     "metadata": {},
     "output_type": "display_data"
    }
   ],
   "source": [
    "x = 0\n",
    "for i in accounts:\n",
    "    print(list_of_accounts[x])\n",
    "    display(i)\n",
    "    x = x + 1\n",
    "    \n",
    "#Display Monthly Income, Non-Discretionary Expenses, Discretionary Expenses and Monthly Surplus for each Account"
   ]
  },
  {
   "cell_type": "code",
   "execution_count": 84,
   "metadata": {},
   "outputs": [
    {
     "name": "stdout",
     "output_type": "stream",
     "text": [
      "BA INFO - 003634\n",
      "Total Income is 8552.17 GBP\n",
      "Total Expenses are -8666.73 GBP\n",
      "Total Discretionary Expenses are -137.97 GBP\n",
      "Total Non-Discretionary Expenses are -8528.76 GBP\n",
      "Average Monthly surplus is -28.64 GBP\n",
      "\n",
      "\n",
      "BA INFO - 003636\n",
      "Total Income is 8552.17 GBP\n",
      "Total Expenses are -8666.73 GBP\n",
      "Total Discretionary Expenses are -137.97 GBP\n",
      "Total Non-Discretionary Expenses are -8528.76 GBP\n",
      "Average Monthly surplus is -28.64 GBP\n",
      "\n",
      "\n",
      "BA INFO - 003637\n",
      "Total Income is 8552.17 GBP\n",
      "Total Expenses are -8666.73 GBP\n",
      "Total Discretionary Expenses are -137.97 GBP\n",
      "Total Non-Discretionary Expenses are -8528.76 GBP\n",
      "Average Monthly surplus is -28.64 GBP\n",
      "\n",
      "\n"
     ]
    }
   ],
   "source": [
    "x = 0\n",
    "for i in accounts:\n",
    "    \n",
    "    print(list_of_accounts[x])\n",
    "    \n",
    "    x = x + 1\n",
    "    \n",
    "    full_income = i['Income (GBP)'].sum()\n",
    "    print('Total Income is', format(full_income, '.2f'), 'GBP')\n",
    "    \n",
    "    \n",
    "    total_expenses = i['Discretionary Expenses (GBP)'].sum() + i['Non-Discretionary Expenses (GBP)'].sum()\n",
    "    print('Total Expenses are', format(total_expenses, '.2f'), 'GBP')\n",
    "    \n",
    "    \n",
    "    disc = i['Discretionary Expenses (GBP)'].sum()\n",
    "    print('Total Discretionary Expenses are', format(disc, '.2f'), 'GBP')\n",
    "    \n",
    "    \n",
    "    non_disc = i['Non-Discretionary Expenses (GBP)'].sum()\n",
    "    print('Total Non-Discretionary Expenses are', format(non_disc, '.2f'), 'GBP')\n",
    "    \n",
    "   \n",
    "    monthly_surplus = i['Monthly Surplus (GBP)'].mean()\n",
    "    print('Average Monthly surplus is', format(monthly_surplus, '.2f'), \"GBP\")\n",
    "    \n",
    "    print(\"\\n\")\n",
    "    \n"
   ]
  },
  {
   "cell_type": "code",
   "execution_count": 85,
   "metadata": {},
   "outputs": [
    {
     "data": {
      "text/html": [
       "<div>\n",
       "<style scoped>\n",
       "    .dataframe tbody tr th:only-of-type {\n",
       "        vertical-align: middle;\n",
       "    }\n",
       "\n",
       "    .dataframe tbody tr th {\n",
       "        vertical-align: top;\n",
       "    }\n",
       "\n",
       "    .dataframe thead th {\n",
       "        text-align: right;\n",
       "    }\n",
       "</style>\n",
       "<table border=\"1\" class=\"dataframe\">\n",
       "  <thead>\n",
       "    <tr style=\"text-align: right;\">\n",
       "      <th></th>\n",
       "      <th>Income (GBP)</th>\n",
       "      <th>Non-Discretionary Expenses (GBP)</th>\n",
       "      <th>Discretionary Expenses (GBP)</th>\n",
       "      <th>Monthly Surplus (GBP)</th>\n",
       "    </tr>\n",
       "    <tr>\n",
       "      <th>Timestamp</th>\n",
       "      <th></th>\n",
       "      <th></th>\n",
       "      <th></th>\n",
       "      <th></th>\n",
       "    </tr>\n",
       "  </thead>\n",
       "  <tbody>\n",
       "    <tr>\n",
       "      <td>2019-12-31 00:00:00+00:00</td>\n",
       "      <td>1954.11</td>\n",
       "      <td>-1418.94</td>\n",
       "      <td>-31.50</td>\n",
       "      <td>503.67</td>\n",
       "    </tr>\n",
       "    <tr>\n",
       "      <td>2020-01-31 00:00:00+00:00</td>\n",
       "      <td>9369.72</td>\n",
       "      <td>-9231.75</td>\n",
       "      <td>-137.97</td>\n",
       "      <td>-0.00</td>\n",
       "    </tr>\n",
       "    <tr>\n",
       "      <td>2020-02-29 00:00:00+00:00</td>\n",
       "      <td>9369.72</td>\n",
       "      <td>-9231.75</td>\n",
       "      <td>-137.97</td>\n",
       "      <td>-0.00</td>\n",
       "    </tr>\n",
       "    <tr>\n",
       "      <td>2020-03-31 00:00:00+00:00</td>\n",
       "      <td>4962.96</td>\n",
       "      <td>-5703.84</td>\n",
       "      <td>-106.47</td>\n",
       "      <td>-847.35</td>\n",
       "    </tr>\n",
       "  </tbody>\n",
       "</table>\n",
       "</div>"
      ],
      "text/plain": [
       "                           Income (GBP)  Non-Discretionary Expenses (GBP)  \\\n",
       "Timestamp                                                                   \n",
       "2019-12-31 00:00:00+00:00       1954.11                          -1418.94   \n",
       "2020-01-31 00:00:00+00:00       9369.72                          -9231.75   \n",
       "2020-02-29 00:00:00+00:00       9369.72                          -9231.75   \n",
       "2020-03-31 00:00:00+00:00       4962.96                          -5703.84   \n",
       "\n",
       "                           Discretionary Expenses (GBP)  Monthly Surplus (GBP)  \n",
       "Timestamp                                                                       \n",
       "2019-12-31 00:00:00+00:00                        -31.50                 503.67  \n",
       "2020-01-31 00:00:00+00:00                       -137.97                  -0.00  \n",
       "2020-02-29 00:00:00+00:00                       -137.97                  -0.00  \n",
       "2020-03-31 00:00:00+00:00                       -106.47                -847.35  "
      ]
     },
     "execution_count": 85,
     "metadata": {},
     "output_type": "execute_result"
    }
   ],
   "source": [
    "all_accounts = sum(accounts)\n",
    "all_accounts\n",
    "\n",
    "#Display Monthly Income, Non-Discretionary Expenses, Discretionary Expenses and Monthly Surplus for sum of all accounts"
   ]
  },
  {
   "cell_type": "code",
   "execution_count": 86,
   "metadata": {},
   "outputs": [
    {
     "name": "stdout",
     "output_type": "stream",
     "text": [
      "APPLICATION DECLINED: Affordability checks failed as Credit Limit is below £250\n"
     ]
    }
   ],
   "source": [
    "credit_limit = all_accounts['Monthly Surplus (GBP)'].mean() * 10\n",
    "if credit_limit > 250:\n",
    "    print('credit limit for', application_ID, 'is', credit_limit, 'GBP')\n",
    "else:\n",
    "    print(\"APPLICATION DECLINED: Affordability checks failed as Credit Limit is below £250\")"
   ]
  },
  {
   "cell_type": "code",
   "execution_count": 87,
   "metadata": {},
   "outputs": [
    {
     "name": "stdout",
     "output_type": "stream",
     "text": [
      "APPLICATION DECLINED: Credit Limit is less than size of Loan\n"
     ]
    }
   ],
   "source": [
    "if credit_limit < loan:\n",
    "    print(\"APPLICATION DECLINED: Credit Limit is less than size of Loan\")"
   ]
  },
  {
   "cell_type": "code",
   "execution_count": 88,
   "metadata": {},
   "outputs": [
    {
     "name": "stdout",
     "output_type": "stream",
     "text": [
      "NO MAX MONTHLY REPAYMENT AS APPLICATIOND DECLINED\n"
     ]
    }
   ],
   "source": [
    "if credit_limit > 250:\n",
    "    print('Maximum monthly repayment is', monthly_surplus)\n",
    "else:\n",
    "    print('NO MAX MONTHLY REPAYMENT AS APPLICATIOND DECLINED')"
   ]
  },
  {
   "cell_type": "markdown",
   "metadata": {},
   "source": [
    "# Visualising Trends in Applicant's Spending and Income (ALL ACCOUNTS)"
   ]
  },
  {
   "cell_type": "markdown",
   "metadata": {},
   "source": [
    "1. Determine applicant's Payday \n",
    "2. Determine Bill Payments and Rent\n",
    "3. Ascertain any third party dependencies - regular transfer to family member for example"
   ]
  },
  {
   "cell_type": "code",
   "execution_count": 89,
   "metadata": {},
   "outputs": [],
   "source": [
    "import matplotlib.pyplot as plt"
   ]
  },
  {
   "cell_type": "code",
   "execution_count": 90,
   "metadata": {},
   "outputs": [],
   "source": [
    "report_original = report_original[['Transaction Category', 'Amount', 'Timestamp']]  #selecting relevant fields"
   ]
  },
  {
   "cell_type": "code",
   "execution_count": 91,
   "metadata": {},
   "outputs": [],
   "source": [
    "purchase = report_original[report_original['Transaction Category'] == 'PURCHASE'] #splitting table according to transaction category\n",
    "atm = report_original[report_original['Transaction Category'] == 'ATM']\n",
    "direct_debit = report_original[report_original['Transaction Category'] == 'DIRECT_DEBIT']\n",
    "transfer  = report_original[report_original['Transaction Category'] == 'TRANSFER']\n",
    "credit = report_original[report_original['Transaction Category'] == 'CREDIT']\n",
    "bill_payment = report_original[report_original['Transaction Category'] == 'BILL_PAYMENT']\n",
    "cash = report_original[report_original['Transaction Category'] == 'CASH']"
   ]
  },
  {
   "cell_type": "code",
   "execution_count": 92,
   "metadata": {},
   "outputs": [],
   "source": [
    "category_list = [purchase, atm, direct_debit, transfer, credit, bill_payment, cash] \n",
    "for i in category_list:                               #convert to datetime                              \n",
    "    i['Timestamp'] = pd.to_datetime(i['Timestamp'])\n",
    "    i['Timestamp'] = i['Timestamp'].dt.tz_convert(None)"
   ]
  },
  {
   "cell_type": "code",
   "execution_count": 93,
   "metadata": {},
   "outputs": [],
   "source": [
    "cash = cash.drop('Transaction Category', axis=1)       #getting rid of unnecessary column\n",
    "bill_payment = bill_payment.drop('Transaction Category', axis=1)\n",
    "credit = credit.drop('Transaction Category', axis=1)\n",
    "transfer = transfer.drop('Transaction Category', axis=1)\n",
    "direct_debit = direct_debit.drop('Transaction Category', axis=1)\n",
    "atm = atm.drop('Transaction Category', axis=1)\n",
    "purchase = purchase.drop('Transaction Category', axis=1)"
   ]
  },
  {
   "cell_type": "code",
   "execution_count": 94,
   "metadata": {
    "scrolled": true
   },
   "outputs": [
    {
     "data": {
      "text/plain": [
       "<matplotlib.axes._subplots.AxesSubplot at 0x118644ad0>"
      ]
     },
     "execution_count": 94,
     "metadata": {},
     "output_type": "execute_result"
    },
    {
     "data": {
      "image/png": "[encoded data removed]",
      "text/plain": [
       "<Figure size 1080x216 with 1 Axes>"
      ]
     },
     "metadata": {
      "needs_background": "light"
     },
     "output_type": "display_data"
    },
    {
     "data": {
      "image/png": "[encoded data removed]",
      "text/plain": [
       "<Figure size 1080x216 with 1 Axes>"
      ]
     },
     "metadata": {
      "needs_background": "light"
     },
     "output_type": "display_data"
    },
    {
     "data": {
      "image/png": "[encoded data removed]",
      "text/plain": [
       "<Figure size 1080x216 with 1 Axes>"
      ]
     },
     "metadata": {
      "needs_background": "light"
     },
     "output_type": "display_data"
    },
    {
     "data": {
      "image/png": "[encoded data removed]",
      "text/plain": [
       "<Figure size 1080x216 with 1 Axes>"
      ]
     },
     "metadata": {
      "needs_background": "light"
     },
     "output_type": "display_data"
    },
    {
     "data": {
      "image/png": "[encoded data removed]",
      "text/plain": [
       "<Figure size 1080x216 with 1 Axes>"
      ]
     },
     "metadata": {
      "needs_background": "light"
     },
     "output_type": "display_data"
    },
    {
     "data": {
      "image/png": "[encoded data removed]",
      "text/plain": [
       "<Figure size 1080x216 with 1 Axes>"
      ]
     },
     "metadata": {
      "needs_background": "light"
     },
     "output_type": "display_data"
    },
    {
     "data": {
      "image/png": "[encoded data removed]",
      "text/plain": [
       "<Figure size 1080x216 with 1 Axes>"
      ]
     },
     "metadata": {
      "needs_background": "light"
     },
     "output_type": "display_data"
    }
   ],
   "source": [
    "plt.rcParams[\"figure.figsize\"]=15,3  \n",
    "cash.plot(x='Timestamp', color='pink', title='Cash')\n",
    "bill_payment.plot(x='Timestamp', color='green', title='Bill Payment')\n",
    "credit.plot(x='Timestamp', color='blue', title='Credit')\n",
    "transfer.plot(x='Timestamp', color='black', title='Transfer')\n",
    "direct_debit.plot(x='Timestamp', color='yellow', title='Direct Debit')\n",
    "atm.plot(x='Timestamp', color='red', title='ATM')\n",
    "purchase.plot(x='Timestamp', color='orange', title='Purchase')"
   ]
  }
 ],
 "metadata": {
  "kernelspec": {
   "display_name": "Python 3",
   "language": "python",
   "name": "python3"
  },
  "language_info": {
   "codemirror_mode": {
    "name": "ipython",
    "version": 3
   },
   "file_extension": ".py",
   "mimetype": "text/x-python",
   "name": "python",
   "nbconvert_exporter": "python",
   "pygments_lexer": "ipython3",
   "version": "3.7.4"
  }
 },
 "nbformat": 4,
 "nbformat_minor": 2
}
